{
 "cells": [
  {
   "cell_type": "markdown",
   "metadata": {},
   "source": [
    "## Modéliser les épidémies"
   ]
  },
  {
   "cell_type": "markdown",
   "metadata": {},
   "source": [
    "### Introduction"
   ]
  },
  {
   "cell_type": "markdown",
   "metadata": {},
   "source": [
    "Au cours de l'histoire, Les épidémies ont  profondément influencer l'histoire des sociétés et civilisations.\n",
    " De multiples épidémies de grandes ampleurs, tels que la peste d'Athène en 400 après JC, ont été documentées avec beaucoup de précision (évolution du nombre de cas, symptomes, nombre de morts,...). Ces registres étaient probablement utiles pour l'observation de l'évolution des épidémies. Au cours des précédentes décénnies, ces données ont été utiles pour construire, paramétriser et valider des modèles dynamiques d'infection.\n",
    "En effet, la modélisation est un outil fondamental en épidémiologie. A partir des paramètres biologiques d'un agent infectieux, et/ou d'informations sur l'évolution de cette épidémie, on peut prédire comment celle-ci va évoluer. Mais l'intérêt majeur des modèles et de pouvoir tester numériquement différentes stratégies pour endiguer une maladie. Par exemple des modèles ont été utilisés pour tenter de déterminer la meilleure politique vaccinale en afrique subsaharienne contre la rougeole (citer). De même, des modèles ont servi à tester l'utilité du confinement sur les dynamiques du COVID-19.\n",
    "D'après les écrits retrouvés, la 1ere tentative de mise en équation des dynamiques temporelles d'une épidémie date de 1760. C'est Bernouilli qui avait décrit l'influence de l'inoculation de vérole bovine sur la propagation de la petite vérole.\n",
    "\n",
    "Le modèle le plus classique en épidémiologie est le modèle SIR (Succeptible Infected  Recovered) qui considère 3 catégories d'individus:\n",
    "- S, succeptible d'être infecté;\n",
    "- I, infectés par la maladie et pouvant contaminer les S;\n",
    "- R, plus infectieux et immunisés; \n",
    "Dans ce cas, le plus simple, on ne tient pas compte du sexe, de l'âge, de la localisation des individus ou d'autres paramètres environnementaux pouvant faciliter l'infection.\n",
    "Dans certaines variations du modèle, la catégorie R n'existe pas, (ce n'est pas possible d'être immunisé). Il existe également des modèles SIR à catégorie, on distingue les individus par leur âge par exemple. \n",
    "\n",
    "Aujourd'hui, des modèles beaucoup plus complexe sont utilisés. Par exemple, le modèle spatial de ... [Citer nom du modèle/article] qui étudie la propagation d'une épidémie à l'échelle d'une ville. Il tient compte de l'âge des individus, la distance au lieu de travail ou d'étude, la taille du lieu de travail ou d'étude, la taille des ménages, etc. Ce modèle spatialisé nécessite une quantité de données sur les individus très importantes, il est donc très difficile de le paramétriser et impossible de le réutiliser pour une autre ville. Il existe donc des modèles qui prennent en compte d'avantage les paramètres démographiques plutôt que de tenir compte des subtilités biologiques de l'agent infectieux.\n",
    "Il est utile pour étudier une épidémie à l'échelle d'une  grande ville, avec une contagion forte.\n",
    "A l'inverse il existe du modèle individu centré. Par exemple pour décrire le SIDA, il existe des modèles décrivant les dynamiques cellulaires (nombre de cellules T saines et infectés,...) , qu'on peut aussi utiliser pour décrire aussi la propagation à l'échelle d'une population (car ces paramètres cellulaires influencent l'infectiosité, la léthalité, etc.) [Citer nom du modèle]\n",
    "\n",
    "On étudiera d'abord le modèle SIR simple et l'influence des paramètres, capable de décrire notamment les dynamiques d'épidémie de peste. Puis on s'intéressera à un modèle SIR avec catégorie de sexe, capable de décrire des épidémies de certaines MST comme la chlamydia. Enfin, on discutera plus en détails des limites de la modélisation dans le cas de l'épidémiologie."
   ]
  }
 ],
 "metadata": {
  "kernelspec": {
   "display_name": "Python 3",
   "language": "python",
   "name": "python3"
  },
  "language_info": {
   "name": "python",
   "version": "3.8.5"
  }
 },
 "nbformat": 4,
 "nbformat_minor": 2
}
